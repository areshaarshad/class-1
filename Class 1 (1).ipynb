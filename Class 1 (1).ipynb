{
 "cells": [
  {
   "cell_type": "code",
   "execution_count": 1,
   "metadata": {
    "scrolled": true
   },
   "outputs": [
    {
     "name": "stdout",
     "output_type": "stream",
     "text": [
      "Aresha Arshad\n",
      "Arshad Awan\n",
      "BS Mathematics\n",
      "SNS NUST\n",
      "Islamabad, Pakistan\n"
     ]
    }
   ],
   "source": [
    "print(\"Aresha Arshad\")\n",
    "print(\"Arshad Awan\")\n",
    "print(\"BS Mathematics\")\n",
    "print(\"SNS NUST\")\n",
    "print(\"Islamabad, Pakistan\")"
   ]
  },
  {
   "cell_type": "code",
   "execution_count": 6,
   "metadata": {},
   "outputs": [
    {
     "name": "stdout",
     "output_type": "stream",
     "text": [
      "aresha arshad\n"
     ]
    }
   ],
   "source": [
    "print(\"aresha arshad\")"
   ]
  },
  {
   "cell_type": "code",
   "execution_count": 4,
   "metadata": {},
   "outputs": [
    {
     "name": "stdout",
     "output_type": "stream",
     "text": [
      "Pakistan\n"
     ]
    }
   ],
   "source": [
    "print(\"Pakistan\")"
   ]
  },
  {
   "cell_type": "code",
   "execution_count": 7,
   "metadata": {
    "scrolled": true
   },
   "outputs": [
    {
     "ename": "IndentationError",
     "evalue": "unexpected indent (<ipython-input-7-1d4247b20fe3>, line 2)",
     "output_type": "error",
     "traceback": [
      "\u001b[1;36m  File \u001b[1;32m\"<ipython-input-7-1d4247b20fe3>\"\u001b[1;36m, line \u001b[1;32m2\u001b[0m\n\u001b[1;33m    return a+d\u001b[0m\n\u001b[1;37m    ^\u001b[0m\n\u001b[1;31mIndentationError\u001b[0m\u001b[1;31m:\u001b[0m unexpected indent\n"
     ]
    }
   ],
   "source": [
    "# function (a , d){\n",
    "    return a+d\n",
    "}"
   ]
  },
  {
   "cell_type": "code",
   "execution_count": 8,
   "metadata": {
    "scrolled": true
   },
   "outputs": [
    {
     "name": "stdout",
     "output_type": "stream",
     "text": [
      "AI for Everyone\n"
     ]
    }
   ],
   "source": [
    "print(\"AI for Everyone\")"
   ]
  },
  {
   "cell_type": "code",
   "execution_count": 10,
   "metadata": {
    "scrolled": true
   },
   "outputs": [
    {
     "name": "stdout",
     "output_type": "stream",
     "text": [
      "\n",
      "National University of Science and Technology\n",
      "Name:  Aresha Arshad\n",
      "Father:  Arshad Awan\n",
      "University: NUST\n",
      "\n"
     ]
    }
   ],
   "source": [
    "name = \"Aresha Arshad\"\n",
    "father_name = \"Arshad Awan\"\n",
    "university = \"NUST\"\n",
    "\n",
    "message=\"\"\"\n",
    "National University of Science and Technology\n",
    "Name:  {}\n",
    "Father:  {}\n",
    "University: {}\n",
    "\"\"\".format(name, father_name, university)\n",
    "print(message)"
   ]
  }
 ],
 "metadata": {
  "kernelspec": {
   "display_name": "Python 3",
   "language": "python",
   "name": "python3"
  },
  "language_info": {
   "codemirror_mode": {
    "name": "ipython",
    "version": 3
   },
   "file_extension": ".py",
   "mimetype": "text/x-python",
   "name": "python",
   "nbconvert_exporter": "python",
   "pygments_lexer": "ipython3",
   "version": "3.7.3"
  }
 },
 "nbformat": 4,
 "nbformat_minor": 2
}
